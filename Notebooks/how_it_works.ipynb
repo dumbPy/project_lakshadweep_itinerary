{
 "cells": [
  {
   "cell_type": "code",
   "execution_count": 1,
   "metadata": {},
   "outputs": [],
   "source": [
    "%load_ext autoreload\n",
    "%autoreload 2"
   ]
  },
  {
   "cell_type": "markdown",
   "metadata": {},
   "source": [
    "A simple demonstration of a Route on folium map.\n",
    "\n",
    "### Make sure you are viewing this on [nbviewer](https://nbviewer.jupyter.org/github/dumbPy/project_lakshadweep_itinerary/blob/master/Notebooks/how_it_works.ipynb)"
   ]
  },
  {
   "cell_type": "code",
   "execution_count": 2,
   "metadata": {},
   "outputs": [],
   "source": [
    "import os\n",
    "os.chdir('..')\n",
    "from lakport_itinerary import inlandPorts, params, parse_schedule, generateGraph\n",
    "from utils import RouteFinder\n",
    "from datetime import datetime\n",
    "import numpy as np\n",
    "import folium"
   ]
  },
  {
   "cell_type": "markdown",
   "metadata": {
    "heading_collapsed": true
   },
   "source": [
    "# Step 1 - Clean the Schedule"
   ]
  },
  {
   "cell_type": "markdown",
   "metadata": {
    "hidden": true
   },
   "source": [
    "The Original Schedule Looks like"
   ]
  },
  {
   "cell_type": "markdown",
   "metadata": {
    "hidden": true
   },
   "source": [
    "\n",
    "![](../Images/original_schedule.png)"
   ]
  },
  {
   "cell_type": "markdown",
   "metadata": {
    "hidden": true
   },
   "source": [
    "Here, We see that each row represents a date, and there are multiple entries for each dates. Each column represents the schedule for a certain ship. Hence, if a ship reaches multiple Islands in a single day, they are in the same row. These type of schedule cannot be directly used to deduce any itineraries and it's required that the schedule be converted into a format that can be parsed by an algorithm. Hence, we convert this schedule into a `pandas.DataFrame` with each row containing a single entry, as below"
   ]
  },
  {
   "cell_type": "code",
   "execution_count": 3,
   "metadata": {
    "hidden": true,
    "scrolled": false
   },
   "outputs": [
    {
     "data": {
      "text/html": [
       "<div>\n",
       "<style scoped>\n",
       "    .dataframe tbody tr th:only-of-type {\n",
       "        vertical-align: middle;\n",
       "    }\n",
       "\n",
       "    .dataframe tbody tr th {\n",
       "        vertical-align: top;\n",
       "    }\n",
       "\n",
       "    .dataframe thead th {\n",
       "        text-align: right;\n",
       "    }\n",
       "</style>\n",
       "<table border=\"1\" class=\"dataframe\">\n",
       "  <thead>\n",
       "    <tr style=\"text-align: right;\">\n",
       "      <th></th>\n",
       "      <th>Date</th>\n",
       "      <th>Amindivi</th>\n",
       "      <th>Arabian Sea</th>\n",
       "      <th>Bharat Seema</th>\n",
       "      <th>Corals</th>\n",
       "      <th>Kavaratti</th>\n",
       "      <th>Lagoons</th>\n",
       "      <th>Lakshadweep Sea</th>\n",
       "      <th>Minicoy</th>\n",
       "    </tr>\n",
       "  </thead>\n",
       "  <tbody>\n",
       "    <tr>\n",
       "      <th>0</th>\n",
       "      <td>2019-03-15 13:00:00</td>\n",
       "      <td>0</td>\n",
       "      <td>Kochi</td>\n",
       "      <td>0</td>\n",
       "      <td>0</td>\n",
       "      <td>0</td>\n",
       "      <td>0</td>\n",
       "      <td>0</td>\n",
       "      <td>0</td>\n",
       "    </tr>\n",
       "    <tr>\n",
       "      <th>1</th>\n",
       "      <td>2019-03-16 09:00:00</td>\n",
       "      <td>0</td>\n",
       "      <td>Kiltan</td>\n",
       "      <td>0</td>\n",
       "      <td>0</td>\n",
       "      <td>0</td>\n",
       "      <td>0</td>\n",
       "      <td>0</td>\n",
       "      <td>0</td>\n",
       "    </tr>\n",
       "    <tr>\n",
       "      <th>2</th>\n",
       "      <td>2019-03-16 13:00:00</td>\n",
       "      <td>0</td>\n",
       "      <td>0</td>\n",
       "      <td>0</td>\n",
       "      <td>0</td>\n",
       "      <td>0</td>\n",
       "      <td>0</td>\n",
       "      <td>0</td>\n",
       "      <td>Beypore</td>\n",
       "    </tr>\n",
       "    <tr>\n",
       "      <th>3</th>\n",
       "      <td>2019-03-16 14:00:00</td>\n",
       "      <td>0</td>\n",
       "      <td>Chetlat</td>\n",
       "      <td>0</td>\n",
       "      <td>0</td>\n",
       "      <td>0</td>\n",
       "      <td>0</td>\n",
       "      <td>0</td>\n",
       "      <td>0</td>\n",
       "    </tr>\n",
       "    <tr>\n",
       "      <th>4</th>\n",
       "      <td>2019-03-16 18:00:00</td>\n",
       "      <td>0</td>\n",
       "      <td>Bitra</td>\n",
       "      <td>0</td>\n",
       "      <td>0</td>\n",
       "      <td>0</td>\n",
       "      <td>0</td>\n",
       "      <td>0</td>\n",
       "      <td>0</td>\n",
       "    </tr>\n",
       "    <tr>\n",
       "      <th>5</th>\n",
       "      <td>2019-03-17 09:00:00</td>\n",
       "      <td>0</td>\n",
       "      <td>Kadmat</td>\n",
       "      <td>0</td>\n",
       "      <td>0</td>\n",
       "      <td>0</td>\n",
       "      <td>0</td>\n",
       "      <td>0</td>\n",
       "      <td>0</td>\n",
       "    </tr>\n",
       "    <tr>\n",
       "      <th>6</th>\n",
       "      <td>2019-03-17 10:00:00</td>\n",
       "      <td>0</td>\n",
       "      <td>0</td>\n",
       "      <td>0</td>\n",
       "      <td>0</td>\n",
       "      <td>0</td>\n",
       "      <td>0</td>\n",
       "      <td>0</td>\n",
       "      <td>Amini</td>\n",
       "    </tr>\n",
       "    <tr>\n",
       "      <th>7</th>\n",
       "      <td>2019-03-17 12:30:00</td>\n",
       "      <td>0</td>\n",
       "      <td>Amini</td>\n",
       "      <td>0</td>\n",
       "      <td>0</td>\n",
       "      <td>0</td>\n",
       "      <td>0</td>\n",
       "      <td>0</td>\n",
       "      <td>0</td>\n",
       "    </tr>\n",
       "    <tr>\n",
       "      <th>8</th>\n",
       "      <td>2019-03-17 12:45:00</td>\n",
       "      <td>0</td>\n",
       "      <td>0</td>\n",
       "      <td>0</td>\n",
       "      <td>0</td>\n",
       "      <td>0</td>\n",
       "      <td>0</td>\n",
       "      <td>Kochi</td>\n",
       "      <td>0</td>\n",
       "    </tr>\n",
       "    <tr>\n",
       "      <th>9</th>\n",
       "      <td>2019-03-17 14:00:00</td>\n",
       "      <td>0</td>\n",
       "      <td>0</td>\n",
       "      <td>0</td>\n",
       "      <td>0</td>\n",
       "      <td>0</td>\n",
       "      <td>0</td>\n",
       "      <td>0</td>\n",
       "      <td>Kadmat</td>\n",
       "    </tr>\n",
       "    <tr>\n",
       "      <th>10</th>\n",
       "      <td>2019-03-17 17:00:00</td>\n",
       "      <td>0</td>\n",
       "      <td>Kavaratti</td>\n",
       "      <td>0</td>\n",
       "      <td>0</td>\n",
       "      <td>0</td>\n",
       "      <td>0</td>\n",
       "      <td>0</td>\n",
       "      <td>0</td>\n",
       "    </tr>\n",
       "    <tr>\n",
       "      <th>11</th>\n",
       "      <td>2019-03-17 17:15:00</td>\n",
       "      <td>0</td>\n",
       "      <td>0</td>\n",
       "      <td>0</td>\n",
       "      <td>0</td>\n",
       "      <td>Kochi</td>\n",
       "      <td>0</td>\n",
       "      <td>0</td>\n",
       "      <td>0</td>\n",
       "    </tr>\n",
       "    <tr>\n",
       "      <th>12</th>\n",
       "      <td>2019-03-18 08:00:00</td>\n",
       "      <td>0</td>\n",
       "      <td>Kochi</td>\n",
       "      <td>0</td>\n",
       "      <td>0</td>\n",
       "      <td>0</td>\n",
       "      <td>0</td>\n",
       "      <td>0</td>\n",
       "      <td>0</td>\n",
       "    </tr>\n",
       "    <tr>\n",
       "      <th>13</th>\n",
       "      <td>2019-03-18 08:00:00</td>\n",
       "      <td>0</td>\n",
       "      <td>0</td>\n",
       "      <td>0</td>\n",
       "      <td>0</td>\n",
       "      <td>0</td>\n",
       "      <td>0</td>\n",
       "      <td>0</td>\n",
       "      <td>Beypore</td>\n",
       "    </tr>\n",
       "    <tr>\n",
       "      <th>14</th>\n",
       "      <td>2019-03-18 09:00:00</td>\n",
       "      <td>0</td>\n",
       "      <td>0</td>\n",
       "      <td>0</td>\n",
       "      <td>0</td>\n",
       "      <td>Kalpeni</td>\n",
       "      <td>0</td>\n",
       "      <td>0</td>\n",
       "      <td>0</td>\n",
       "    </tr>\n",
       "    <tr>\n",
       "      <th>15</th>\n",
       "      <td>2019-03-18 13:00:00</td>\n",
       "      <td>0</td>\n",
       "      <td>0</td>\n",
       "      <td>0</td>\n",
       "      <td>Kochi</td>\n",
       "      <td>0</td>\n",
       "      <td>0</td>\n",
       "      <td>0</td>\n",
       "      <td>0</td>\n",
       "    </tr>\n",
       "    <tr>\n",
       "      <th>16</th>\n",
       "      <td>2019-03-18 13:00:00</td>\n",
       "      <td>0</td>\n",
       "      <td>0</td>\n",
       "      <td>0</td>\n",
       "      <td>0</td>\n",
       "      <td>Androth</td>\n",
       "      <td>0</td>\n",
       "      <td>0</td>\n",
       "      <td>0</td>\n",
       "    </tr>\n",
       "    <tr>\n",
       "      <th>17</th>\n",
       "      <td>2019-03-18 15:00:00</td>\n",
       "      <td>0</td>\n",
       "      <td>0</td>\n",
       "      <td>0</td>\n",
       "      <td>0</td>\n",
       "      <td>0</td>\n",
       "      <td>0</td>\n",
       "      <td>Minicoy</td>\n",
       "      <td>0</td>\n",
       "    </tr>\n",
       "    <tr>\n",
       "      <th>18</th>\n",
       "      <td>2019-03-18 18:00:00</td>\n",
       "      <td>0</td>\n",
       "      <td>0</td>\n",
       "      <td>0</td>\n",
       "      <td>0</td>\n",
       "      <td>Kalpeni</td>\n",
       "      <td>0</td>\n",
       "      <td>0</td>\n",
       "      <td>0</td>\n",
       "    </tr>\n",
       "    <tr>\n",
       "      <th>19</th>\n",
       "      <td>2019-03-19 07:00:00</td>\n",
       "      <td>0</td>\n",
       "      <td>0</td>\n",
       "      <td>0</td>\n",
       "      <td>0</td>\n",
       "      <td>0</td>\n",
       "      <td>0</td>\n",
       "      <td>Kochi</td>\n",
       "      <td>0</td>\n",
       "    </tr>\n",
       "  </tbody>\n",
       "</table>\n",
       "</div>"
      ],
      "text/plain": [
       "                  Date  Amindivi Arabian Sea  Bharat Seema Corals Kavaratti  \\\n",
       "0  2019-03-15 13:00:00         0       Kochi             0      0         0   \n",
       "1  2019-03-16 09:00:00         0      Kiltan             0      0         0   \n",
       "2  2019-03-16 13:00:00         0           0             0      0         0   \n",
       "3  2019-03-16 14:00:00         0     Chetlat             0      0         0   \n",
       "4  2019-03-16 18:00:00         0       Bitra             0      0         0   \n",
       "5  2019-03-17 09:00:00         0      Kadmat             0      0         0   \n",
       "6  2019-03-17 10:00:00         0           0             0      0         0   \n",
       "7  2019-03-17 12:30:00         0       Amini             0      0         0   \n",
       "8  2019-03-17 12:45:00         0           0             0      0         0   \n",
       "9  2019-03-17 14:00:00         0           0             0      0         0   \n",
       "10 2019-03-17 17:00:00         0   Kavaratti             0      0         0   \n",
       "11 2019-03-17 17:15:00         0           0             0      0     Kochi   \n",
       "12 2019-03-18 08:00:00         0       Kochi             0      0         0   \n",
       "13 2019-03-18 08:00:00         0           0             0      0         0   \n",
       "14 2019-03-18 09:00:00         0           0             0      0   Kalpeni   \n",
       "15 2019-03-18 13:00:00         0           0             0  Kochi         0   \n",
       "16 2019-03-18 13:00:00         0           0             0      0   Androth   \n",
       "17 2019-03-18 15:00:00         0           0             0      0         0   \n",
       "18 2019-03-18 18:00:00         0           0             0      0   Kalpeni   \n",
       "19 2019-03-19 07:00:00         0           0             0      0         0   \n",
       "\n",
       "   Lagoons Lakshadweep Sea  Minicoy  \n",
       "0        0               0        0  \n",
       "1        0               0        0  \n",
       "2        0               0  Beypore  \n",
       "3        0               0        0  \n",
       "4        0               0        0  \n",
       "5        0               0        0  \n",
       "6        0               0    Amini  \n",
       "7        0               0        0  \n",
       "8        0           Kochi        0  \n",
       "9        0               0   Kadmat  \n",
       "10       0               0        0  \n",
       "11       0               0        0  \n",
       "12       0               0        0  \n",
       "13       0               0  Beypore  \n",
       "14       0               0        0  \n",
       "15       0               0        0  \n",
       "16       0               0        0  \n",
       "17       0         Minicoy        0  \n",
       "18       0               0        0  \n",
       "19       0           Kochi        0  "
      ]
     },
     "execution_count": 3,
     "metadata": {},
     "output_type": "execute_result"
    }
   ],
   "source": [
    "parse_schedule('Lakport_schedule.html').head(20)"
   ]
  },
  {
   "cell_type": "markdown",
   "metadata": {
    "hidden": true
   },
   "source": [
    "Here, each row represents the position of a perticular ship at a certain date and time.\n",
    "Each row hence represents a Node of a network, representing presence of a perticular ship at perticular date and time at a perticular location.\n",
    "This `pandas.DataFrame` can now be iterated upon, one row (or Node) at a time by an algorithm to find all the Nodes that can be reached by a source Node, subject to some constraints "
   ]
  },
  {
   "cell_type": "markdown",
   "metadata": {
    "hidden": true
   },
   "source": [
    "A good idea of what a itinerary can be like is as below.\n",
    "\n",
    "Here, Yellow edge represents staying at a location, hence the location at the edge's start and end remain same. On the other hand, the date and time changes and the ship might change.\n",
    "\n",
    "Red edge represent travelling between two locations by a perticular ship, henc the ship remains the same and the date and time change.\n",
    "\n",
    "We start from a Mainland India port and return to a mainland India port."
   ]
  },
  {
   "cell_type": "markdown",
   "metadata": {
    "hidden": true
   },
   "source": [
    "![](../Images/Manual Itinerary Sample.jpg)"
   ]
  },
  {
   "cell_type": "markdown",
   "metadata": {
    "hidden": true
   },
   "source": [
    "There are three Mainland India ports, __Kochi__, __Mangalore__ and __Beypore__ and the rest are Islands"
   ]
  },
  {
   "cell_type": "markdown",
   "metadata": {
    "heading_collapsed": true
   },
   "source": [
    "# Step 2 - Generating Graph"
   ]
  },
  {
   "cell_type": "markdown",
   "metadata": {
    "hidden": true
   },
   "source": [
    "Graph is generated subject to some conditions stated in `params`  "
   ]
  },
  {
   "cell_type": "code",
   "execution_count": 4,
   "metadata": {
    "hidden": true
   },
   "outputs": [],
   "source": [
    "params = {\n",
    "'maxDaysOnOneIsland' : 5, # Maximum days of stay on one Island\n",
    "'duration' : 15, # Max duration of tour\n",
    "'Departure' : datetime.strptime('11/03/2018', '%d/%m/%Y'), # Earliest start date\n",
    "'source' : inlandPorts, # Tour starts from. any of the inland Ports\n",
    "'destination' : inlandPorts, # Tour ends at any of the ports, or provide list of ports\n",
    "'minHoursOnOneIsland' : 3,\n",
    "'maxHoursPerShip' : 24,      \n",
    "'max_n_routes' : np.infty,   \n",
    "'html_file' : 'Lakport_schedule.html', #parse this file for schedule above\n",
    "'filler' : 0 # Used to fill NaN values\n",
    "}"
   ]
  },
  {
   "cell_type": "markdown",
   "metadata": {
    "hidden": true
   },
   "source": [
    "Nodes are defined in `utils.py` module as [locationNode](https://github.com/dumbPy/project_lakshadweep_itinerary/blob/62ae259461b21466fd944dbb71008151eb9c303c/utils.py#L13), and have two important attributes, `location` and `timestamp`."
   ]
  },
  {
   "cell_type": "markdown",
   "metadata": {
    "hidden": true
   },
   "source": [
    "As each row represents a row, we can represent the schedule as a set of nodes numbered $1$ to $n$ where the cleaned schedule has $n$ rows."
   ]
  },
  {
   "cell_type": "markdown",
   "metadata": {
    "hidden": true
   },
   "source": [
    "As the rows are sorted by date and time, (`datetime.datetime` in python),  \n",
    "set of nodes $N = \\{N_i : i\\in [1,2,..n]\\}$"
   ]
  },
  {
   "cell_type": "markdown",
   "metadata": {
    "hidden": true
   },
   "source": [
    "Now that we have the nodes, we evaluate the possibility of edges between them, and edges that satisfy the below conditions are added to the graph. [`check_condition(node1, node2)`](https://github.com/dumbPy/project_lakshadweep_itinerary/blob/62ae259461b21466fd944dbb71008151eb9c303c/lakport_itinerary.py#L74) does just that"
   ]
  },
  {
   "cell_type": "markdown",
   "metadata": {
    "hidden": true
   },
   "source": [
    "### Condition 0: (Compulsary)\n",
    "`node1.timestamp < node2.timestamp` as we can only go forward in time"
   ]
  },
  {
   "cell_type": "markdown",
   "metadata": {
    "hidden": true
   },
   "source": [
    "### Conditions Set 1 (Edge representing Stay at some Island)\n",
    "\n",
    "`node1.location == node2.location` Location of both nodes should be same __and__  \n",
    "duration of stay should be within `minHoursOnOneIsland` and `maxDaysOnOneIsland`\n",
    "\n",
    "##### Stay edge satisfying above condition should be on island only\n",
    "stay edge satisfying above condition 1 should also satisfy `node1.location in inlandPorts`"
   ]
  },
  {
   "cell_type": "markdown",
   "metadata": {
    "hidden": true
   },
   "source": [
    "### Condition Set 2 (Edge representing Travel)\n",
    "`node1.ship == node2.ship` i.e., ship leaving node1 should be reaching node2 __and__  \n",
    "duration of travel should be less than `maxHoursPerShip`"
   ]
  },
  {
   "cell_type": "markdown",
   "metadata": {
    "heading_collapsed": true
   },
   "source": [
    "# Step 3 - Finding Routes"
   ]
  },
  {
   "cell_type": "markdown",
   "metadata": {
    "hidden": true
   },
   "source": [
    "Transversing the Graph and finding all routes starting on `source` nodes and ending at `destination` nodes"
   ]
  },
  {
   "cell_type": "markdown",
   "metadata": {
    "hidden": true
   },
   "source": [
    "In an Itinerary, there are 2 types of edges, _Travel Edges_ representing travel between two nodes and _Stay Edges_ representing stay between two nodes.  \n",
    "`RouteFinder` class is responsible for finding all possible valid routes.  \n",
    "It uses two helper functions, `EdgeType(node1, node2)` to determine the type of edge between the 2 nodes and `addItinerary(nodes)` to add itinerary to its list of routes from the given set of nodes."
   ]
  },
  {
   "cell_type": "markdown",
   "metadata": {
    "hidden": true
   },
   "source": [
    "#### `walk(priv_path)`"
   ]
  },
  {
   "cell_type": "markdown",
   "metadata": {
    "hidden": true
   },
   "source": [
    "This method takes previous path transversed by the algorithm, and finds the next nodes that are reachable from current node, subject to edge type, i.e., if last edge was a _Travel Edge_, find all possible _Stay Edges_ originating from current node, or if last edge was _Stay Edge_, find all possible _Travel Edges_ originating from current node.  \n",
    "\n",
    "\n",
    "This is a recursive algorithm that either reaches a possible destination in which case the transversed path from source to destination is added as a possible route, or ends up at a dead end."
   ]
  },
  {
   "cell_type": "markdown",
   "metadata": {},
   "source": [
    "# Showing Routes"
   ]
  },
  {
   "cell_type": "code",
   "execution_count": 5,
   "metadata": {},
   "outputs": [
    {
     "data": {
      "text/plain": [
       "{'maxDaysOnOneIsland': 5,\n",
       " 'duration': 15,\n",
       " 'Departure': datetime.datetime(2018, 3, 11, 0, 0),\n",
       " 'source': ['Kochi', 'Mangalore', 'Beypore'],\n",
       " 'destination': ['Kochi', 'Mangalore', 'Beypore'],\n",
       " 'minHoursOnOneIsland': 3,\n",
       " 'maxHoursPerShip': 24,\n",
       " 'max_n_routes': inf,\n",
       " 'html_file': 'Lakport_schedule.html',\n",
       " 'filler': 0}"
      ]
     },
     "execution_count": 5,
     "metadata": {},
     "output_type": "execute_result"
    }
   ],
   "source": [
    "params"
   ]
  },
  {
   "cell_type": "code",
   "execution_count": 6,
   "metadata": {},
   "outputs": [
    {
     "data": {
      "text/plain": [
       "['Kochi', 'Mangalore', 'Beypore']"
      ]
     },
     "execution_count": 6,
     "metadata": {},
     "output_type": "execute_result"
    }
   ],
   "source": [
    "inlandPorts"
   ]
  },
  {
   "cell_type": "code",
   "execution_count": 7,
   "metadata": {},
   "outputs": [
    {
     "name": "stdout",
     "output_type": "stream",
     "text": [
      "Total Nodes Added:  88\n",
      "Total Routes Found: 22\n"
     ]
    }
   ],
   "source": [
    "schedule = parse_schedule(**params)\n",
    "G = generateGraph(schedule, **params)\n",
    "routes = RouteFinder.find_routes(G, **params)"
   ]
  },
  {
   "cell_type": "code",
   "execution_count": 8,
   "metadata": {},
   "outputs": [
    {
     "data": {
      "text/html": [
       "<div style=\"width:100%;\"><div style=\"position:relative;width:100%;height:0;padding-bottom:60%;\"><iframe src=\"data:text/html;charset=utf-8;base64,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\" style=\"position:absolute;width:100%;height:100%;left:0;top:0;border:none !important;\" allowfullscreen webkitallowfullscreen mozallowfullscreen></iframe></div></div>"
      ],
      "text/plain": [
       "<folium.folium.Map at 0x7f8596a8b6a0>"
      ]
     },
     "execution_count": 8,
     "metadata": {},
     "output_type": "execute_result"
    }
   ],
   "source": [
    "routes[0].draw()"
   ]
  },
  {
   "cell_type": "code",
   "execution_count": 10,
   "metadata": {},
   "outputs": [
    {
     "name": "stdout",
     "output_type": "stream",
     "text": [
      "Kochi 2019-03-21 12:00:00\n",
      "{'ship': 'Lakshadweep Sea 0 days 22:00:00'} 0 days 22:00:00\n",
      "Agatti 2019-03-22 10:00:00\n",
      "{'ship': 'None 3 days 00:00:00'} 3 days 00:00:00\n",
      "Agatti 2019-03-25 10:00:00\n",
      "{'ship': 'Corals 0 days 08:00:00'} 0 days 08:00:00\n",
      "Kavaratti 2019-03-25 18:00:00\n",
      "{'ship': 'None 4 days 00:00:00'} 4 days 00:00:00\n",
      "Kavaratti 2019-03-29 18:00:00\n",
      "{'ship': 'Arabian Sea 0 days 14:00:00'} 0 days 14:00:00\n",
      "Kochi 2019-03-30 08:00:00\n",
      "Tour Duration:  8 days 20:00:00\n",
      "\n"
     ]
    },
    {
     "data": {
      "text/html": [
       "<div style=\"width:100%;\"><div style=\"position:relative;width:100%;height:0;padding-bottom:60%;\"><iframe src=\"data:text/html;charset=utf-8;base64,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\" style=\"position:absolute;width:100%;height:100%;left:0;top:0;border:none !important;\" allowfullscreen webkitallowfullscreen mozallowfullscreen></iframe></div></div>"
      ],
      "text/plain": [
       "<folium.folium.Map at 0x7f85969c1b38>"
      ]
     },
     "execution_count": 10,
     "metadata": {},
     "output_type": "execute_result"
    }
   ],
   "source": [
    "# You can also print the itinerary like below\n",
    "routes[18].draw(print_=True)"
   ]
  },
  {
   "cell_type": "markdown",
   "metadata": {},
   "source": [
    "### The routes can also bee subjected to some conditions.\n",
    "### Say I want to travel atleast for 10 days"
   ]
  },
  {
   "cell_type": "code",
   "execution_count": 11,
   "metadata": {},
   "outputs": [
    {
     "data": {
      "text/plain": [
       "1"
      ]
     },
     "execution_count": 11,
     "metadata": {},
     "output_type": "execute_result"
    }
   ],
   "source": [
    "from datetime import timedelta\n",
    "routes2 = [route for route in routes if route.nodes[-1].timestamp-route.nodes[0].timestamp>timedelta(days=10)]\n",
    "len(routes2)"
   ]
  },
  {
   "cell_type": "code",
   "execution_count": 12,
   "metadata": {},
   "outputs": [
    {
     "name": "stdout",
     "output_type": "stream",
     "text": [
      "Kochi 2019-03-18 13:00:00\n",
      "{'ship': 'Corals 0 days 20:00:00'} 0 days 20:00:00\n",
      "Kavaratti 2019-03-19 09:00:00\n",
      "{'ship': 'None 1 days 00:00:00'} 1 days 00:00:00\n",
      "Kavaratti 2019-03-20 09:00:00\n",
      "{'ship': 'Kavaratti 0 days 05:00:00'} 0 days 05:00:00\n",
      "Agatti 2019-03-20 14:00:00\n",
      "{'ship': 'None 4 days 20:00:00'} 4 days 20:00:00\n",
      "Agatti 2019-03-25 10:00:00\n",
      "{'ship': 'Corals 0 days 08:00:00'} 0 days 08:00:00\n",
      "Kavaratti 2019-03-25 18:00:00\n",
      "{'ship': 'None 4 days 00:00:00'} 4 days 00:00:00\n",
      "Kavaratti 2019-03-29 18:00:00\n",
      "{'ship': 'Arabian Sea 0 days 14:00:00'} 0 days 14:00:00\n",
      "Kochi 2019-03-30 08:00:00\n",
      "Tour Duration:  11 days 19:00:00\n",
      "\n"
     ]
    },
    {
     "data": {
      "text/html": [
       "<div style=\"width:100%;\"><div style=\"position:relative;width:100%;height:0;padding-bottom:60%;\"><iframe src=\"data:text/html;charset=utf-8;base64,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\" style=\"position:absolute;width:100%;height:100%;left:0;top:0;border:none !important;\" allowfullscreen webkitallowfullscreen mozallowfullscreen></iframe></div></div>"
      ],
      "text/plain": [
       "<folium.folium.Map at 0x7f85969dad68>"
      ]
     },
     "execution_count": 12,
     "metadata": {},
     "output_type": "execute_result"
    }
   ],
   "source": [
    "routes2[0].draw(print_=True)"
   ]
  },
  {
   "cell_type": "code",
   "execution_count": null,
   "metadata": {},
   "outputs": [],
   "source": []
  }
 ],
 "metadata": {
  "kernelspec": {
   "display_name": "Python 3",
   "language": "python",
   "name": "python3"
  },
  "language_info": {
   "codemirror_mode": {
    "name": "ipython",
    "version": 3
   },
   "file_extension": ".py",
   "mimetype": "text/x-python",
   "name": "python",
   "nbconvert_exporter": "python",
   "pygments_lexer": "ipython3",
   "version": "3.6.5"
  }
 },
 "nbformat": 4,
 "nbformat_minor": 2
}
