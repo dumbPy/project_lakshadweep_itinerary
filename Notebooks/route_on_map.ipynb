{
 "cells": [
  {
   "cell_type": "markdown",
   "metadata": {},
   "source": [
    "# Project Lakshadweep Itinerary"
   ]
  },
  {
   "cell_type": "markdown",
   "metadata": {},
   "source": [
    "A simple demonstration of a Route on folium map.\n",
    "\n",
    "### Make sure you are viewing this on [nbviewer](https://nbviewer.jupyter.org/github/dumbPy/project_lakshadweep_itinerary/blob/master/Notebooks/route_on_map.ipynb)"
   ]
  },
  {
   "cell_type": "code",
   "execution_count": 1,
   "metadata": {},
   "outputs": [],
   "source": [
    "%load_ext autoreload\n",
    "%autoreload 2"
   ]
  },
  {
   "cell_type": "code",
   "execution_count": 2,
   "metadata": {},
   "outputs": [],
   "source": [
    "import os\n",
    "os.chdir('..')\n",
    "from lakport_itinerary import params, parse_schedule, generateGraph, inlandPorts\n",
    "from utils import find_n_routes"
   ]
  },
  {
   "cell_type": "code",
   "execution_count": 3,
   "metadata": {},
   "outputs": [
    {
     "data": {
      "text/plain": [
       "{'maxDaysOnOneIsland': 5,\n",
       " 'duration': 15,\n",
       " 'Departure': datetime.datetime(2018, 3, 11, 0, 0),\n",
       " 'source': ['Kochi', 'Mangalore', 'Beypore'],\n",
       " 'destination': ['Kochi', 'Mangalore', 'Beypore'],\n",
       " 'minHoursOnOneIsland': 3,\n",
       " 'maxHoursPerShip': 24,\n",
       " 'max_n_routes': inf,\n",
       " 'html_file': 'Lakport_schedule.html',\n",
       " 'filler': 0}"
      ]
     },
     "execution_count": 3,
     "metadata": {},
     "output_type": "execute_result"
    }
   ],
   "source": [
    "# Parameters representing contraints on the routes\n",
    "params"
   ]
  },
  {
   "cell_type": "code",
   "execution_count": 4,
   "metadata": {},
   "outputs": [
    {
     "data": {
      "text/plain": [
       "['Kochi', 'Mangalore', 'Beypore']"
      ]
     },
     "execution_count": 4,
     "metadata": {},
     "output_type": "execute_result"
    }
   ],
   "source": [
    "inlandPorts"
   ]
  },
  {
   "cell_type": "code",
   "execution_count": 5,
   "metadata": {},
   "outputs": [
    {
     "data": {
      "text/html": [
       "<div>\n",
       "<style scoped>\n",
       "    .dataframe tbody tr th:only-of-type {\n",
       "        vertical-align: middle;\n",
       "    }\n",
       "\n",
       "    .dataframe tbody tr th {\n",
       "        vertical-align: top;\n",
       "    }\n",
       "\n",
       "    .dataframe thead th {\n",
       "        text-align: right;\n",
       "    }\n",
       "</style>\n",
       "<table border=\"1\" class=\"dataframe\">\n",
       "  <thead>\n",
       "    <tr style=\"text-align: right;\">\n",
       "      <th></th>\n",
       "      <th>Date</th>\n",
       "      <th>Amindivi</th>\n",
       "      <th>Arabian Sea</th>\n",
       "      <th>Bharat Seema</th>\n",
       "      <th>Corals</th>\n",
       "      <th>Kavaratti</th>\n",
       "      <th>Lagoons</th>\n",
       "      <th>Lakshadweep Sea</th>\n",
       "      <th>Minicoy</th>\n",
       "    </tr>\n",
       "  </thead>\n",
       "  <tbody>\n",
       "    <tr>\n",
       "      <th>0</th>\n",
       "      <td>2019-03-05 20:00:00</td>\n",
       "      <td>0</td>\n",
       "      <td>0</td>\n",
       "      <td>0</td>\n",
       "      <td>0</td>\n",
       "      <td>Kochi</td>\n",
       "      <td>0</td>\n",
       "      <td>0</td>\n",
       "      <td>0</td>\n",
       "    </tr>\n",
       "    <tr>\n",
       "      <th>1</th>\n",
       "      <td>2019-03-06 09:00:00</td>\n",
       "      <td>0</td>\n",
       "      <td>0</td>\n",
       "      <td>0</td>\n",
       "      <td>0</td>\n",
       "      <td>Kalpeni</td>\n",
       "      <td>0</td>\n",
       "      <td>0</td>\n",
       "      <td>0</td>\n",
       "    </tr>\n",
       "    <tr>\n",
       "      <th>2</th>\n",
       "      <td>2019-03-06 13:00:00</td>\n",
       "      <td>0</td>\n",
       "      <td>0</td>\n",
       "      <td>0</td>\n",
       "      <td>0</td>\n",
       "      <td>Androth</td>\n",
       "      <td>0</td>\n",
       "      <td>0</td>\n",
       "      <td>0</td>\n",
       "    </tr>\n",
       "    <tr>\n",
       "      <th>3</th>\n",
       "      <td>2019-03-06 17:00:00</td>\n",
       "      <td>0</td>\n",
       "      <td>0</td>\n",
       "      <td>0</td>\n",
       "      <td>0</td>\n",
       "      <td>Kalpeni</td>\n",
       "      <td>0</td>\n",
       "      <td>0</td>\n",
       "      <td>0</td>\n",
       "    </tr>\n",
       "    <tr>\n",
       "      <th>4</th>\n",
       "      <td>2019-03-07 11:00:00</td>\n",
       "      <td>Mangalore</td>\n",
       "      <td>0</td>\n",
       "      <td>0</td>\n",
       "      <td>0</td>\n",
       "      <td>0</td>\n",
       "      <td>0</td>\n",
       "      <td>0</td>\n",
       "      <td>0</td>\n",
       "    </tr>\n",
       "  </tbody>\n",
       "</table>\n",
       "</div>"
      ],
      "text/plain": [
       "                 Date   Amindivi Arabian Sea  Bharat Seema Corals Kavaratti  \\\n",
       "0 2019-03-05 20:00:00          0           0             0      0     Kochi   \n",
       "1 2019-03-06 09:00:00          0           0             0      0   Kalpeni   \n",
       "2 2019-03-06 13:00:00          0           0             0      0   Androth   \n",
       "3 2019-03-06 17:00:00          0           0             0      0   Kalpeni   \n",
       "4 2019-03-07 11:00:00  Mangalore           0             0      0         0   \n",
       "\n",
       "  Lagoons Lakshadweep Sea Minicoy  \n",
       "0       0               0       0  \n",
       "1       0               0       0  \n",
       "2       0               0       0  \n",
       "3       0               0       0  \n",
       "4       0               0       0  "
      ]
     },
     "execution_count": 5,
     "metadata": {},
     "output_type": "execute_result"
    }
   ],
   "source": [
    "schedule = parse_schedule(**params)\n",
    "schedule.head()"
   ]
  },
  {
   "cell_type": "code",
   "execution_count": 6,
   "metadata": {},
   "outputs": [
    {
     "name": "stdout",
     "output_type": "stream",
     "text": [
      "Calculating All Paths.. Please Wait\n"
     ]
    }
   ],
   "source": [
    "# Use the cleaned schedule above to calculate the graph\n",
    "G = generateGraph(schedule, **params)"
   ]
  },
  {
   "cell_type": "code",
   "execution_count": 7,
   "metadata": {
    "scrolled": false
   },
   "outputs": [
    {
     "data": {
      "text/plain": [
       "('Total Nodes in the Graph: ', 92)"
      ]
     },
     "execution_count": 7,
     "metadata": {},
     "output_type": "execute_result"
    }
   ],
   "source": [
    "\"Total Nodes in the Graph: \",len(G)"
   ]
  },
  {
   "cell_type": "code",
   "execution_count": 8,
   "metadata": {},
   "outputs": [
    {
     "data": {
      "text/plain": [
       "47"
      ]
     },
     "execution_count": 8,
     "metadata": {},
     "output_type": "execute_result"
    }
   ],
   "source": [
    "# Find all routes subject to above params\n",
    "routes = find_n_routes(G, **params)\n",
    "len(routes)"
   ]
  },
  {
   "cell_type": "markdown",
   "metadata": {},
   "source": [
    "### Say I want to start and end at different ports"
   ]
  },
  {
   "cell_type": "code",
   "execution_count": 9,
   "metadata": {},
   "outputs": [],
   "source": [
    "# Take such routes that start location is different than end location\n",
    "routes_2 = [route for route in routes if route.nodes[0].location != route.nodes[-1].location]"
   ]
  },
  {
   "cell_type": "markdown",
   "metadata": {},
   "source": [
    "Explore the route on Map.  \n",
    "Click on the nodes to get more info on stay, and on routes to get more info on travel time"
   ]
  },
  {
   "cell_type": "code",
   "execution_count": 10,
   "metadata": {
    "scrolled": false
   },
   "outputs": [
    {
     "name": "stdout",
     "output_type": "stream",
     "text": [
      "Beypore 2019-03-12 17:00:00\n",
      "{'ship': 'Minicoy 0 days 17:00:00'} 0 days 17:00:00\n",
      "Androth 2019-03-13 10:00:00\n",
      "{'ship': 'None 1 days 03:00:00'} 1 days 03:00:00\n",
      "Androth 2019-03-14 13:00:00\n",
      "{'ship': 'Kavaratti 0 days 18:30:00'} 0 days 18:30:00\n",
      "Kochi 2019-03-15 07:30:00\n",
      "Tour Duration:  2 days 14:30:00\n",
      "\n"
     ]
    },
    {
     "data": {
      "text/html": [
       "<div style=\"width:100%;\"><div style=\"position:relative;width:100%;height:0;padding-bottom:60%;\"><iframe src=\"data:text/html;charset=utf-8;base64,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\" style=\"position:absolute;width:100%;height:100%;left:0;top:0;border:none !important;\" allowfullscreen webkitallowfullscreen mozallowfullscreen></iframe></div></div>"
      ],
      "text/plain": [
       "<folium.folium.Map at 0x1cf2e5e6fd0>"
      ]
     },
     "execution_count": 10,
     "metadata": {},
     "output_type": "execute_result"
    }
   ],
   "source": [
    "# Drawing a random route on the Map\n",
    "routes_2[-1].draw(print_=True)"
   ]
  },
  {
   "cell_type": "code",
   "execution_count": 13,
   "metadata": {},
   "outputs": [
    {
     "name": "stdout",
     "output_type": "stream",
     "text": [
      "Kochi 2019-03-07 14:00:00\n",
      "{'ship': 'Lagoons 0 days 21:00:00'} 0 days 21:00:00\n",
      "Kavaratti 2019-03-08 11:00:00\n",
      "{'ship': 'None 1 days 22:00:00'} 1 days 22:00:00\n",
      "Kavaratti 2019-03-10 09:00:00\n",
      "{'ship': 'Lakshadweep Sea 0 days 08:00:00'} 0 days 08:00:00\n",
      "Kadmat 2019-03-10 17:00:00\n",
      "{'ship': 'None 0 days 20:00:00'} 0 days 20:00:00\n",
      "Kadmat 2019-03-11 13:00:00\n",
      "{'ship': 'Amindivi 0 days 20:00:00'} 0 days 20:00:00\n",
      "Mangalore 2019-03-12 09:00:00\n",
      "Tour Duration:  4 days 19:00:00\n",
      "\n"
     ]
    },
    {
     "data": {
      "text/html": [
       "<div style=\"width:100%;\"><div style=\"position:relative;width:100%;height:0;padding-bottom:60%;\"><iframe src=\"data:text/html;charset=utf-8;base64,PCFET0NUWVBFIGh0bWw+CjxoZWFkPiAgICAKICAgIDxtZXRhIGh0dHAtZXF1aXY9ImNvbnRlbnQtdHlwZSIgY29udGVudD0idGV4dC9odG1sOyBjaGFyc2V0PVVURi04IiAvPgogICAgPHNjcmlwdD5MX1BSRUZFUl9DQU5WQVM9ZmFsc2U7IExfTk9fVE9VQ0g9ZmFsc2U7IExfRElTQUJMRV8zRD1mYWxzZTs8L3NjcmlwdD4KICAgIDxzY3JpcHQgc3JjPSJodHRwczovL2Nkbi5qc2RlbGl2ci5uZXQvbnBtL2xlYWZsZXRAMS40LjAvZGlzdC9sZWFmbGV0LmpzIj48L3NjcmlwdD4KICAgIDxzY3JpcHQgc3JjPSJodHRwczovL2NvZGUuanF1ZXJ5LmNvbS9qcXVlcnktMS4xMi40Lm1pbi5qcyI+PC9zY3JpcHQ+CiAgICA8c2NyaXB0IHNyYz0iaHR0cHM6Ly9tYXhjZG4uYm9vdHN0cmFwY2RuLmNvbS9ib290c3RyYXAvMy4yLjAvanMvYm9vdHN0cmFwLm1pbi5qcyI+PC9zY3JpcHQ+CiAgICA8c2NyaXB0IHNyYz0iaHR0cHM6Ly9jZG5qcy5jbG91ZGZsYXJlLmNvbS9hamF4L2xpYnMvTGVhZmxldC5hd2Vzb21lLW1hcmtlcnMvMi4wLjIvbGVhZmxldC5hd2Vzb21lLW1hcmtlcnMuanMiPjwvc2NyaXB0PgogICAgPGxpbmsgcmVsPSJzdHlsZXNoZWV0IiBocmVmPSJodHRwczovL2Nkbi5qc2RlbGl2ci5uZXQvbnBtL2xlYWZsZXRAMS40LjAvZGlzdC9sZWFmbGV0LmNzcyIvPgogICAgPGxpbmsgcmVsPSJzdHlsZXNoZWV0IiBocmVmPSJodHRwczovL21heGNkbi5ib290c3RyYXBjZG4uY29tL2Jvb3RzdHJhcC8zLjIuMC9jc3MvYm9vdHN0cmFwLm1pbi5jc3MiLz4KICAgIDxsaW5rIHJlbD0ic3R5bGVzaGVldCIgaHJlZj0iaHR0cHM6Ly9tYXhjZG4uYm9vdHN0cmFwY2RuLmNvbS9ib290c3RyYXAvMy4yLjAvY3NzL2Jvb3RzdHJhcC10aGVtZS5taW4uY3NzIi8+CiAgICA8bGluayByZWw9InN0eWxlc2hlZXQiIGhyZWY9Imh0dHBzOi8vbWF4Y2RuLmJvb3RzdHJhcGNkbi5jb20vZm9udC1hd2Vzb21lLzQuNi4zL2Nzcy9mb250LWF3ZXNvbWUubWluLmNzcyIvPgogICAgPGxpbmsgcmVsPSJzdHlsZXNoZWV0IiBocmVmPSJodHRwczovL2NkbmpzLmNsb3VkZmxhcmUuY29tL2FqYXgvbGlicy9MZWFmbGV0LmF3ZXNvbWUtbWFya2Vycy8yLjAuMi9sZWFmbGV0LmF3ZXNvbWUtbWFya2Vycy5jc3MiLz4KICAgIDxsaW5rIHJlbD0ic3R5bGVzaGVldCIgaHJlZj0iaHR0cHM6Ly9yYXdjZG4uZ2l0aGFjay5jb20vcHl0aG9uLXZpc3VhbGl6YXRpb24vZm9saXVtL21hc3Rlci9mb2xpdW0vdGVtcGxhdGVzL2xlYWZsZXQuYXdlc29tZS5yb3RhdGUuY3NzIi8+CiAgICA8c3R5bGU+aHRtbCwgYm9keSB7d2lkdGg6IDEwMCU7aGVpZ2h0OiAxMDAlO21hcmdpbjogMDtwYWRkaW5nOiAwO308L3N0eWxlPgogICAgPHN0eWxlPiNtYXAge3Bvc2l0aW9uOmFic29sdXRlO3RvcDowO2JvdHRvbTowO3JpZ2h0OjA7bGVmdDowO308L3N0eWxlPgogICAgCiAgICA8bWV0YSBuYW1lPSJ2aWV3cG9ydCIgY29udGVudD0id2lkdGg9ZGV2aWNlLXdpZHRoLAogICAgICAgIGluaXRpYWwtc2NhbGU9MS4wLCBtYXhpbXVtLXNjYWxlPTEuMCwgdXNlci1zY2FsYWJsZT1ubyIgLz4KICAgIDxzdHlsZT4jbWFwXzNmOGRhNDQ3NDRjZDRkNTE5ZjI4OWYwMWM4YTkxZjQ4IHsKICAgICAgICBwb3NpdGlvbjogcmVsYXRpdmU7CiAgICAgICAgd2lkdGg6IDEwMC4wJTsKICAgICAgICBoZWlnaHQ6IDEwMC4wJTsKICAgICAgICBsZWZ0OiAwLjAlOwogICAgICAgIHRvcDogMC4wJTsKICAgICAgICB9CiAgICA8L3N0eWxlPgo8L2hlYWQ+Cjxib2R5PiAgICAKICAgIAogICAgPGRpdiBjbGFzcz0iZm9saXVtLW1hcCIgaWQ9Im1hcF8zZjhkYTQ0NzQ0Y2Q0ZDUxOWYyODlmMDFjOGE5MWY0OCIgPjwvZGl2Pgo8L2JvZHk+CjxzY3JpcHQ+ICAgIAogICAgCiAgICAKICAgICAgICB2YXIgYm91bmRzID0gbnVsbDsKICAgIAoKICAgIHZhciBtYXBfM2Y4ZGE0NDc0NGNkNGQ1MTlmMjg5ZjAxYzhhOTFmNDggPSBMLm1hcCgKICAgICAgICAnbWFwXzNmOGRhNDQ3NDRjZDRkNTE5ZjI4OWYwMWM4YTkxZjQ4JywgewogICAgICAgIGNlbnRlcjogWzEwLjk5LCA3My42Nl0sCiAgICAgICAgem9vbTogNywKICAgICAgICBtYXhCb3VuZHM6IGJvdW5kcywKICAgICAgICBsYXllcnM6IFtdLAogICAgICAgIHdvcmxkQ29weUp1bXA6IGZhbHNlLAogICAgICAgIGNyczogTC5DUlMuRVBTRzM4NTcsCiAgICAgICAgem9vbUNvbnRyb2w6IHRydWUsCiAgICAgICAgfSk7CgoKICAgIAogICAgdmFyIHRpbGVfbGF5ZXJfODlmNTU1NzQ0NzQxNDM5NzhjNDI0MzhmOTVjM2RhN2EgPSBMLnRpbGVMYXllcigKICAgICAgICAnaHR0cHM6Ly97c30udGlsZS5vcGVuc3RyZWV0bWFwLm9yZy97en0ve3h9L3t5fS5wbmcnLAogICAgICAgIHsKICAgICAgICAiYXR0cmlidXRpb24iOiBudWxsLAogICAgICAgICJkZXRlY3RSZXRpbmEiOiBmYWxzZSwKICAgICAgICAibWF4TmF0aXZlWm9vbSI6IDE4LAogICAgICAgICJtYXhab29tIjogMTgsCiAgICAgICAgIm1pblpvb20iOiAwLAogICAgICAgICJub1dyYXAiOiBmYWxzZSwKICAgICAgICAib3BhY2l0eSI6IDEsCiAgICAgICAgInN1YmRvbWFpbnMiOiAiYWJjIiwKICAgICAgICAidG1zIjogZmFsc2UKfSkuYWRkVG8obWFwXzNmOGRhNDQ3NDRjZDRkNTE5ZjI4OWYwMWM4YTkxZjQ4KTsKICAgIAogICAgICAgICAgICAgICAgdmFyIHBvbHlfbGluZV9lMDMxMDYyMzY1MzM0MTBjYjQ1MTAzZTNjODEyODk3ZCA9IEwucG9seWxpbmUoCiAgICAgICAgICAgICAgICAgICAgW1s5Ljk2OTIsIDc2LjI1OTJdLCBbMTAuMzY5NTUsIDc0LjM0ODVdLCBbMTAuNTY5OSwgNzIuNjM3OF1dLAogICAgICAgICAgICAgICAgICAgIHsKICAiYnViYmxpbmdNb3VzZUV2ZW50cyI6IHRydWUsCiAgImNvbG9yIjogIiMzMzg4ZmYiLAogICJkYXNoQXJyYXkiOiBudWxsLAogICJkYXNoT2Zmc2V0IjogbnVsbCwKICAiZmlsbCI6IGZhbHNlLAogICJmaWxsQ29sb3IiOiAiIzMzODhmZiIsCiAgImZpbGxPcGFjaXR5IjogMC4yLAogICJmaWxsUnVsZSI6ICJldmVub2RkIiwKICAibGluZUNhcCI6ICJyb3VuZCIsCiAgImxpbmVKb2luIjogInJvdW5kIiwKICAibm9DbGlwIjogZmFsc2UsCiAgIm9wYWNpdHkiOiAxLjAsCiAgInNtb290aEZhY3RvciI6IDEuMCwKICAic3Ryb2tlIjogdHJ1ZSwKICAid2VpZ2h0IjogMwp9CiAgICAgICAgICAgICAgICAgICAgKQogICAgICAgICAgICAgICAgICAgIC5hZGRUbyhtYXBfM2Y4ZGE0NDc0NGNkNGQ1MTlmMjg5ZjAxYzhhOTFmNDgpOwogICAgICAgICAgICAKICAgIAogICAgICAgICAgICB2YXIgcG9wdXBfNWM4NWNlNzQwYWM3NGJjNTkzZTU0Y2E0YTQxM2VhYzQgPSBMLnBvcHVwKHttYXhXaWR0aDogJzEwMCUnCiAgICAgICAgICAgIAogICAgICAgICAgICB9KTsKCiAgICAgICAgICAgIAogICAgICAgICAgICAgICAgdmFyIGh0bWxfNWI4NzFhNTQ3NzQ2NDFmNzlkZDhlYTU1Yjc1YWFhZDIgPSAkKGA8ZGl2IGlkPSJodG1sXzViODcxYTU0Nzc0NjQxZjc5ZGQ4ZWE1NWI3NWFhYWQyIiBzdHlsZT0id2lkdGg6IDEwMC4wJTsgaGVpZ2h0OiAxMDAuMCU7Ij57J3NoaXAnOiAnTGFnb29ucyAwIGRheXMgMjE6MDA6MDAnfTwvZGl2PmApWzBdOwogICAgICAgICAgICAgICAgcG9wdXBfNWM4NWNlNzQwYWM3NGJjNTkzZTU0Y2E0YTQxM2VhYzQuc2V0Q29udGVudChodG1sXzViODcxYTU0Nzc0NjQxZjc5ZGQ4ZWE1NWI3NWFhYWQyKTsKICAgICAgICAgICAgCgogICAgICAgICAgICBwb2x5X2xpbmVfZTAzMTA2MjM2NTMzNDEwY2I0NTEwM2UzYzgxMjg5N2QuYmluZFBvcHVwKHBvcHVwXzVjODVjZTc0MGFjNzRiYzU5M2U1NGNhNGE0MTNlYWM0KQogICAgICAgICAgICA7CgogICAgICAgICAgICAKICAgICAgICAKICAgIAogICAgICAgIHBvbHlfbGluZV9lMDMxMDYyMzY1MzM0MTBjYjQ1MTAzZTNjODEyODk3ZC5iaW5kVG9vbHRpcCgKICAgICAgICAgICAgYDxkaXY+YAogICAgICAgICAgICArIGBLb2NoaSB0byBLYXZhcmF0dGlgICsgYDwvZGl2PmAsCiAgICAgICAgICAgIHsic3RpY2t5IjogdHJ1ZX0KICAgICAgICApOwogICAgICAgIAogICAgCiAgICAgICAgdmFyIG1hcmtlcl83MzE4OWQzYzAzYzk0ZWRmYWJiYzkwY2M5NGEyNmNhMyA9IEwubWFya2VyKAogICAgICAgICAgICBbMTAuNTY5OSwgNzIuNjM3OF0sCiAgICAgICAgICAgIHsKICAgICAgICAgICAgICAgIGljb246IG5ldyBMLkljb24uRGVmYXVsdCgpLAogICAgICAgICAgICAgICAgfQogICAgICAgICAgICApLmFkZFRvKG1hcF8zZjhkYTQ0NzQ0Y2Q0ZDUxOWYyODlmMDFjOGE5MWY0OCk7CiAgICAgICAgCiAgICAKICAgICAgICAgICAgdmFyIHBvcHVwX2Y2YTdjYmNjZmYwYzQ5MmE4OTYyODllZDE4ODk5NThmID0gTC5wb3B1cCh7bWF4V2lkdGg6ICcxMDAlJwogICAgICAgICAgICAKICAgICAgICAgICAgfSk7CgogICAgICAgICAgICAKICAgICAgICAgICAgICAgIHZhciBodG1sX2I5ZDA4NTBhOGE0MTQ2MzA5MGEwZTRkZTQ4YzZmNjFiID0gJChgPGRpdiBpZD0iaHRtbF9iOWQwODUwYThhNDE0NjMwOTBhMGU0ZGU0OGM2ZjYxYiIgc3R5bGU9IndpZHRoOiAxMDAuMCU7IGhlaWdodDogMTAwLjAlOyI+U3RheSBGcm9tOiAyMDE5LTAzLTA4IDExOjAwIEFNICAgICAgICAgICAgICAgICAgICAgICAgICAgICAgICAgICAgIFN0YXkgVGlsbCAyMDE5LTAzLTEwIDA5OjAwIEFNIER1cmF0aW9uOiAxIGRheXMgMjI6MDA6MDA8L2Rpdj5gKVswXTsKICAgICAgICAgICAgICAgIHBvcHVwX2Y2YTdjYmNjZmYwYzQ5MmE4OTYyODllZDE4ODk5NThmLnNldENvbnRlbnQoaHRtbF9iOWQwODUwYThhNDE0NjMwOTBhMGU0ZGU0OGM2ZjYxYik7CiAgICAgICAgICAgIAoKICAgICAgICAgICAgbWFya2VyXzczMTg5ZDNjMDNjOTRlZGZhYmJjOTBjYzk0YTI2Y2EzLmJpbmRQb3B1cChwb3B1cF9mNmE3Y2JjY2ZmMGM0OTJhODk2Mjg5ZWQxODg5OTU4ZikKICAgICAgICAgICAgOwoKICAgICAgICAgICAgCiAgICAgICAgCiAgICAKICAgICAgICBtYXJrZXJfNzMxODlkM2MwM2M5NGVkZmFiYmM5MGNjOTRhMjZjYTMuYmluZFRvb2x0aXAoCiAgICAgICAgICAgIGA8ZGl2PmAKICAgICAgICAgICAgKyBgS2F2YXJhdHRpYCArIGA8L2Rpdj5gLAogICAgICAgICAgICB7InN0aWNreSI6IHRydWV9CiAgICAgICAgKTsKICAgICAgICAKICAgIAogICAgICAgICAgICAgICAgdmFyIHBvbHlfbGluZV9mY2FhZWI0MGI1Y2M0Y2Y5ODlhYTIxNGE2YWQ0NDFlZiA9IEwucG9seWxpbmUoCiAgICAgICAgICAgICAgICAgICAgW1sxMC41Njk5LCA3Mi42Mzc4XSwgWzEwLjk5NTU1LCA3Mi44MDY2XSwgWzExLjIyMTIsIDcyLjc3NTRdXSwKICAgICAgICAgICAgICAgICAgICB7CiAgImJ1YmJsaW5nTW91c2VFdmVudHMiOiB0cnVlLAogICJjb2xvciI6ICIjMzM4OGZmIiwKICAiZGFzaEFycmF5IjogbnVsbCwKICAiZGFzaE9mZnNldCI6IG51bGwsCiAgImZpbGwiOiBmYWxzZSwKICAiZmlsbENvbG9yIjogIiMzMzg4ZmYiLAogICJmaWxsT3BhY2l0eSI6IDAuMiwKICAiZmlsbFJ1bGUiOiAiZXZlbm9kZCIsCiAgImxpbmVDYXAiOiAicm91bmQiLAogICJsaW5lSm9pbiI6ICJyb3VuZCIsCiAgIm5vQ2xpcCI6IGZhbHNlLAogICJvcGFjaXR5IjogMS4wLAogICJzbW9vdGhGYWN0b3IiOiAxLjAsCiAgInN0cm9rZSI6IHRydWUsCiAgIndlaWdodCI6IDMKfQogICAgICAgICAgICAgICAgICAgICkKICAgICAgICAgICAgICAgICAgICAuYWRkVG8obWFwXzNmOGRhNDQ3NDRjZDRkNTE5ZjI4OWYwMWM4YTkxZjQ4KTsKICAgICAgICAgICAgCiAgICAKICAgICAgICAgICAgdmFyIHBvcHVwXzhiMjEzYjUxNjI1YTQ3OWJhYTlmYjU4OTAxMjQwZDA3ID0gTC5wb3B1cCh7bWF4V2lkdGg6ICcxMDAlJwogICAgICAgICAgICAKICAgICAgICAgICAgfSk7CgogICAgICAgICAgICAKICAgICAgICAgICAgICAgIHZhciBodG1sXzM3ZDAwMDQwZTI5NTQwYThhZTY0NjA3MzBmMzkwOGI5ID0gJChgPGRpdiBpZD0iaHRtbF8zN2QwMDA0MGUyOTU0MGE4YWU2NDYwNzMwZjM5MDhiOSIgc3R5bGU9IndpZHRoOiAxMDAuMCU7IGhlaWdodDogMTAwLjAlOyI+eydzaGlwJzogJ0xha3NoYWR3ZWVwIFNlYSAwIGRheXMgMDg6MDA6MDAnfTwvZGl2PmApWzBdOwogICAgICAgICAgICAgICAgcG9wdXBfOGIyMTNiNTE2MjVhNDc5YmFhOWZiNTg5MDEyNDBkMDcuc2V0Q29udGVudChodG1sXzM3ZDAwMDQwZTI5NTQwYThhZTY0NjA3MzBmMzkwOGI5KTsKICAgICAgICAgICAgCgogICAgICAgICAgICBwb2x5X2xpbmVfZmNhYWViNDBiNWNjNGNmOTg5YWEyMTRhNmFkNDQxZWYuYmluZFBvcHVwKHBvcHVwXzhiMjEzYjUxNjI1YTQ3OWJhYTlmYjU4OTAxMjQwZDA3KQogICAgICAgICAgICA7CgogICAgICAgICAgICAKICAgICAgICAKICAgIAogICAgICAgIHBvbHlfbGluZV9mY2FhZWI0MGI1Y2M0Y2Y5ODlhYTIxNGE2YWQ0NDFlZi5iaW5kVG9vbHRpcCgKICAgICAgICAgICAgYDxkaXY+YAogICAgICAgICAgICArIGBLYXZhcmF0dGkgdG8gS2FkbWF0YCArIGA8L2Rpdj5gLAogICAgICAgICAgICB7InN0aWNreSI6IHRydWV9CiAgICAgICAgKTsKICAgICAgICAKICAgIAogICAgICAgIHZhciBtYXJrZXJfYjI1Nzg3Mjk2YWRjNDkzODk2NTkwODg1NjUzM2FmYjUgPSBMLm1hcmtlcigKICAgICAgICAgICAgWzExLjIyMTIsIDcyLjc3NTRdLAogICAgICAgICAgICB7CiAgICAgICAgICAgICAgICBpY29uOiBuZXcgTC5JY29uLkRlZmF1bHQoKSwKICAgICAgICAgICAgICAgIH0KICAgICAgICAgICAgKS5hZGRUbyhtYXBfM2Y4ZGE0NDc0NGNkNGQ1MTlmMjg5ZjAxYzhhOTFmNDgpOwogICAgICAgIAogICAgCiAgICAgICAgICAgIHZhciBwb3B1cF8yMWU2NDg1MWYzYjQ0NmU3YjM5YWIyYWY3ODIxYzllMSA9IEwucG9wdXAoe21heFdpZHRoOiAnMTAwJScKICAgICAgICAgICAgCiAgICAgICAgICAgIH0pOwoKICAgICAgICAgICAgCiAgICAgICAgICAgICAgICB2YXIgaHRtbF9mODMzZDVhMGMxYzQ0ODEzODUyNGIwMzBhNzFlMDJkYSA9ICQoYDxkaXYgaWQ9Imh0bWxfZjgzM2Q1YTBjMWM0NDgxMzg1MjRiMDMwYTcxZTAyZGEiIHN0eWxlPSJ3aWR0aDogMTAwLjAlOyBoZWlnaHQ6IDEwMC4wJTsiPlN0YXkgRnJvbTogMjAxOS0wMy0xMCAwNTowMCBQTSAgICAgICAgICAgICAgICAgICAgICAgICAgICAgICAgICAgICBTdGF5IFRpbGwgMjAxOS0wMy0xMSAwMTowMCBQTSBEdXJhdGlvbjogMCBkYXlzIDIwOjAwOjAwPC9kaXY+YClbMF07CiAgICAgICAgICAgICAgICBwb3B1cF8yMWU2NDg1MWYzYjQ0NmU3YjM5YWIyYWY3ODIxYzllMS5zZXRDb250ZW50KGh0bWxfZjgzM2Q1YTBjMWM0NDgxMzg1MjRiMDMwYTcxZTAyZGEpOwogICAgICAgICAgICAKCiAgICAgICAgICAgIG1hcmtlcl9iMjU3ODcyOTZhZGM0OTM4OTY1OTA4ODU2NTMzYWZiNS5iaW5kUG9wdXAocG9wdXBfMjFlNjQ4NTFmM2I0NDZlN2IzOWFiMmFmNzgyMWM5ZTEpCiAgICAgICAgICAgIDsKCiAgICAgICAgICAgIAogICAgICAgIAogICAgCiAgICAgICAgbWFya2VyX2IyNTc4NzI5NmFkYzQ5Mzg5NjU5MDg4NTY1MzNhZmI1LmJpbmRUb29sdGlwKAogICAgICAgICAgICBgPGRpdj5gCiAgICAgICAgICAgICsgYEthZG1hdGAgKyBgPC9kaXY+YCwKICAgICAgICAgICAgeyJzdGlja3kiOiB0cnVlfQogICAgICAgICk7CiAgICAgICAgCiAgICAKICAgICAgICAgICAgICAgIHZhciBwb2x5X2xpbmVfMDcyOTEyMjJmNzA1NGRiNTlkMTQ1ODBiODlkYmNlOTMgPSBMLnBvbHlsaW5lKAogICAgICAgICAgICAgICAgICAgIFtbMTEuMjIxMiwgNzIuNzc1NF0sIFsxMi4xMzYzLCA3My44OTkyXSwgWzEyLjg1MTQsIDc0LjgyM11dLAogICAgICAgICAgICAgICAgICAgIHsKICAiYnViYmxpbmdNb3VzZUV2ZW50cyI6IHRydWUsCiAgImNvbG9yIjogIiMzMzg4ZmYiLAogICJkYXNoQXJyYXkiOiBudWxsLAogICJkYXNoT2Zmc2V0IjogbnVsbCwKICAiZmlsbCI6IGZhbHNlLAogICJmaWxsQ29sb3IiOiAiIzMzODhmZiIsCiAgImZpbGxPcGFjaXR5IjogMC4yLAogICJmaWxsUnVsZSI6ICJldmVub2RkIiwKICAibGluZUNhcCI6ICJyb3VuZCIsCiAgImxpbmVKb2luIjogInJvdW5kIiwKICAibm9DbGlwIjogZmFsc2UsCiAgIm9wYWNpdHkiOiAxLjAsCiAgInNtb290aEZhY3RvciI6IDEuMCwKICAic3Ryb2tlIjogdHJ1ZSwKICAid2VpZ2h0IjogMwp9CiAgICAgICAgICAgICAgICAgICAgKQogICAgICAgICAgICAgICAgICAgIC5hZGRUbyhtYXBfM2Y4ZGE0NDc0NGNkNGQ1MTlmMjg5ZjAxYzhhOTFmNDgpOwogICAgICAgICAgICAKICAgIAogICAgICAgICAgICB2YXIgcG9wdXBfMGNkMGNlYjYxODMzNDYxMzk2YjMwOWM3OWQ3MTQzNzUgPSBMLnBvcHVwKHttYXhXaWR0aDogJzEwMCUnCiAgICAgICAgICAgIAogICAgICAgICAgICB9KTsKCiAgICAgICAgICAgIAogICAgICAgICAgICAgICAgdmFyIGh0bWxfODA5NTNiYWExZmU3NGRjNmI5NDJjY2Y2OTI1NDkzYjMgPSAkKGA8ZGl2IGlkPSJodG1sXzgwOTUzYmFhMWZlNzRkYzZiOTQyY2NmNjkyNTQ5M2IzIiBzdHlsZT0id2lkdGg6IDEwMC4wJTsgaGVpZ2h0OiAxMDAuMCU7Ij57J3NoaXAnOiAnQW1pbmRpdmkgMCBkYXlzIDIwOjAwOjAwJ308L2Rpdj5gKVswXTsKICAgICAgICAgICAgICAgIHBvcHVwXzBjZDBjZWI2MTgzMzQ2MTM5NmIzMDljNzlkNzE0Mzc1LnNldENvbnRlbnQoaHRtbF84MDk1M2JhYTFmZTc0ZGM2Yjk0MmNjZjY5MjU0OTNiMyk7CiAgICAgICAgICAgIAoKICAgICAgICAgICAgcG9seV9saW5lXzA3MjkxMjIyZjcwNTRkYjU5ZDE0NTgwYjg5ZGJjZTkzLmJpbmRQb3B1cChwb3B1cF8wY2QwY2ViNjE4MzM0NjEzOTZiMzA5Yzc5ZDcxNDM3NSkKICAgICAgICAgICAgOwoKICAgICAgICAgICAgCiAgICAgICAgCiAgICAKICAgICAgICBwb2x5X2xpbmVfMDcyOTEyMjJmNzA1NGRiNTlkMTQ1ODBiODlkYmNlOTMuYmluZFRvb2x0aXAoCiAgICAgICAgICAgIGA8ZGl2PmAKICAgICAgICAgICAgKyBgS2FkbWF0IHRvIE1hbmdhbG9yZWAgKyBgPC9kaXY+YCwKICAgICAgICAgICAgeyJzdGlja3kiOiB0cnVlfQogICAgICAgICk7CiAgICAgICAgCiAgICAKICAgICAgICB2YXIgbWFya2VyX2ZhZjAzM2Q2MjExZDQ2Njg5YWQ3NGJiMDU5NTMzNmY3ID0gTC5tYXJrZXIoCiAgICAgICAgICAgIFs5Ljk2OTIsIDc2LjI1OTJdLAogICAgICAgICAgICB7CiAgICAgICAgICAgICAgICBpY29uOiBuZXcgTC5JY29uLkRlZmF1bHQoKSwKICAgICAgICAgICAgICAgIH0KICAgICAgICAgICAgKS5hZGRUbyhtYXBfM2Y4ZGE0NDc0NGNkNGQ1MTlmMjg5ZjAxYzhhOTFmNDgpOwogICAgICAgIAogICAgCiAgICAgICAgICAgIHZhciBwb3B1cF9lZDViZGE3MjJhMWE0Yjc0OGI0MDMyMTQ3YTYzNjRlMyA9IEwucG9wdXAoe21heFdpZHRoOiAnMTAwJScKICAgICAgICAgICAgCiAgICAgICAgICAgIH0pOwoKICAgICAgICAgICAgCiAgICAgICAgICAgICAgICB2YXIgaHRtbF9mMmZkODY5N2QyOTk0MmY2ODA4OTg4MGExOTUzNzJkNyA9ICQoYDxkaXYgaWQ9Imh0bWxfZjJmZDg2OTdkMjk5NDJmNjgwODk4ODBhMTk1MzcyZDciIHN0eWxlPSJ3aWR0aDogMTAwLjAlOyBoZWlnaHQ6IDEwMC4wJTsiPlN0YXJ0OiAyMDE5LTAzLTA3IDAyOjAwIFBNICAgICAgICAgICAgICAgICAgICAgRHVyYXRpb246IDQgZGF5cyAxOTowMDowMDwvZGl2PmApWzBdOwogICAgICAgICAgICAgICAgcG9wdXBfZWQ1YmRhNzIyYTFhNGI3NDhiNDAzMjE0N2E2MzY0ZTMuc2V0Q29udGVudChodG1sX2YyZmQ4Njk3ZDI5OTQyZjY4MDg5ODgwYTE5NTM3MmQ3KTsKICAgICAgICAgICAgCgogICAgICAgICAgICBtYXJrZXJfZmFmMDMzZDYyMTFkNDY2ODlhZDc0YmIwNTk1MzM2ZjcuYmluZFBvcHVwKHBvcHVwX2VkNWJkYTcyMmExYTRiNzQ4YjQwMzIxNDdhNjM2NGUzKQogICAgICAgICAgICA7CgogICAgICAgICAgICAKICAgICAgICAKICAgIAogICAgICAgIG1hcmtlcl9mYWYwMzNkNjIxMWQ0NjY4OWFkNzRiYjA1OTUzMzZmNy5iaW5kVG9vbHRpcCgKICAgICAgICAgICAgYDxkaXY+YAogICAgICAgICAgICArIGBLb2NoaWAgKyBgPC9kaXY+YCwKICAgICAgICAgICAgeyJzdGlja3kiOiB0cnVlfQogICAgICAgICk7CiAgICAgICAgCiAgICAKICAgICAgICB2YXIgbWFya2VyX2E0ZWJlYjM3ZTk3ODQ2YWM5NGVjNGZjYjUyNzJhMjI1ID0gTC5tYXJrZXIoCiAgICAgICAgICAgIFsxMi44NTE0LCA3NC44MjNdLAogICAgICAgICAgICB7CiAgICAgICAgICAgICAgICBpY29uOiBuZXcgTC5JY29uLkRlZmF1bHQoKSwKICAgICAgICAgICAgICAgIH0KICAgICAgICAgICAgKS5hZGRUbyhtYXBfM2Y4ZGE0NDc0NGNkNGQ1MTlmMjg5ZjAxYzhhOTFmNDgpOwogICAgICAgIAogICAgCiAgICAgICAgICAgIHZhciBwb3B1cF9jMTNlZTllMDBjYTQ0OTEyYjU2OTcwODc0MTBhMjMwNiA9IEwucG9wdXAoe21heFdpZHRoOiAnMTAwJScKICAgICAgICAgICAgCiAgICAgICAgICAgIH0pOwoKICAgICAgICAgICAgCiAgICAgICAgICAgICAgICB2YXIgaHRtbF80NTUyNTEwMjM5MDc0ZmZhOTQ0MDJhMDdlZGE0OWU4NiA9ICQoYDxkaXYgaWQ9Imh0bWxfNDU1MjUxMDIzOTA3NGZmYTk0NDAyYTA3ZWRhNDllODYiIHN0eWxlPSJ3aWR0aDogMTAwLjAlOyBoZWlnaHQ6IDEwMC4wJTsiPkVuZDogMjAxOS0wMy0xMiAwOTowMCBBTSAgICAgICAgICAgICAgICAgICAgIER1cmF0aW9uOiA0IGRheXMgMTk6MDA6MDA8L2Rpdj5gKVswXTsKICAgICAgICAgICAgICAgIHBvcHVwX2MxM2VlOWUwMGNhNDQ5MTJiNTY5NzA4NzQxMGEyMzA2LnNldENvbnRlbnQoaHRtbF80NTUyNTEwMjM5MDc0ZmZhOTQ0MDJhMDdlZGE0OWU4Nik7CiAgICAgICAgICAgIAoKICAgICAgICAgICAgbWFya2VyX2E0ZWJlYjM3ZTk3ODQ2YWM5NGVjNGZjYjUyNzJhMjI1LmJpbmRQb3B1cChwb3B1cF9jMTNlZTllMDBjYTQ0OTEyYjU2OTcwODc0MTBhMjMwNikKICAgICAgICAgICAgOwoKICAgICAgICAgICAgCiAgICAgICAgCiAgICAKICAgICAgICBtYXJrZXJfYTRlYmViMzdlOTc4NDZhYzk0ZWM0ZmNiNTI3MmEyMjUuYmluZFRvb2x0aXAoCiAgICAgICAgICAgIGA8ZGl2PmAKICAgICAgICAgICAgKyBgTWFuZ2Fsb3JlYCArIGA8L2Rpdj5gLAogICAgICAgICAgICB7InN0aWNreSI6IHRydWV9CiAgICAgICAgKTsKICAgICAgICAKPC9zY3JpcHQ+\" style=\"position:absolute;width:100%;height:100%;left:0;top:0;border:none !important;\" allowfullscreen webkitallowfullscreen mozallowfullscreen></iframe></div></div>"
      ],
      "text/plain": [
       "<folium.folium.Map at 0x1cf2e713d30>"
      ]
     },
     "execution_count": 13,
     "metadata": {},
     "output_type": "execute_result"
    }
   ],
   "source": [
    "routes_2[2].draw(print_=True)"
   ]
  },
  {
   "cell_type": "code",
   "execution_count": 14,
   "metadata": {},
   "outputs": [
    {
     "name": "stdout",
     "output_type": "stream",
     "text": [
      "Kochi 2019-03-07 14:00:00\n",
      "{'ship': 'Lagoons 0 days 21:00:00'} 0 days 21:00:00\n",
      "Kavaratti 2019-03-08 11:00:00\n",
      "{'ship': 'None 1 days 22:00:00'} 1 days 22:00:00\n",
      "Kavaratti 2019-03-10 09:00:00\n",
      "{'ship': 'Lakshadweep Sea 0 days 08:00:00'} 0 days 08:00:00\n",
      "Kadmat 2019-03-10 17:00:00\n",
      "{'ship': 'None 0 days 20:00:00'} 0 days 20:00:00\n",
      "Kadmat 2019-03-11 13:00:00\n",
      "{'ship': 'Amindivi 0 days 04:00:00'} 0 days 04:00:00\n",
      "Kavaratti 2019-03-11 17:00:00\n",
      "{'ship': 'None 4 days 01:00:00'} 4 days 01:00:00\n",
      "Kavaratti 2019-03-15 18:00:00\n",
      "{'ship': 'Lagoons 0 days 16:00:00'} 0 days 16:00:00\n",
      "Kochi 2019-03-16 10:00:00\n",
      "Tour Duration:  8 days 20:00:00\n",
      "\n"
     ]
    },
    {
     "data": {
      "text/html": [
       "<div style=\"width:100%;\"><div style=\"position:relative;width:100%;height:0;padding-bottom:60%;\"><iframe src=\"data:text/html;charset=utf-8;base64,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\" style=\"position:absolute;width:100%;height:100%;left:0;top:0;border:none !important;\" allowfullscreen webkitallowfullscreen mozallowfullscreen></iframe></div></div>"
      ],
      "text/plain": [
       "<folium.folium.Map at 0x1cf290105c0>"
      ]
     },
     "execution_count": 14,
     "metadata": {},
     "output_type": "execute_result"
    }
   ],
   "source": [
    "routes[20].draw(print_=True)"
   ]
  }
 ],
 "metadata": {
  "kernelspec": {
   "display_name": "Python 3",
   "language": "python",
   "name": "python3"
  },
  "language_info": {
   "codemirror_mode": {
    "name": "ipython",
    "version": 3
   },
   "file_extension": ".py",
   "mimetype": "text/x-python",
   "name": "python",
   "nbconvert_exporter": "python",
   "pygments_lexer": "ipython3",
   "version": "3.6.5"
  }
 },
 "nbformat": 4,
 "nbformat_minor": 2
}
