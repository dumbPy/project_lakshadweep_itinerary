{
 "cells": [
  {
   "cell_type": "markdown",
   "metadata": {},
   "source": [
    "# Project Lakshadweep Itinerary"
   ]
  },
  {
   "cell_type": "markdown",
   "metadata": {},
   "source": [
    "A simple demonstration of a Route on folium map.\n",
    "\n",
    "Make sure you are using [nbviewer](https://nbviewer.jupyter.org/github/dumbPy/project_lakshadweep_itinerary/blob/master/route_on_map.ipynb)"
   ]
  },
  {
   "cell_type": "code",
   "execution_count": 1,
   "metadata": {},
   "outputs": [],
   "source": [
    "%load_ext autoreload\n",
    "%autoreload 2"
   ]
  },
  {
   "cell_type": "code",
   "execution_count": 2,
   "metadata": {},
   "outputs": [],
   "source": [
    "import os\n",
    "os.chdir('..')\n",
    "from lakport_itinerary import params, parse_schedule, generateGraph, inlandPorts\n",
    "from utils import find_n_routes"
   ]
  },
  {
   "cell_type": "code",
   "execution_count": 3,
   "metadata": {},
   "outputs": [
    {
     "data": {
      "text/plain": [
       "{'maxDaysOnOneIsland': 5,\n",
       " 'duration': 15,\n",
       " 'Departure': datetime.datetime(2018, 3, 11, 0, 0),\n",
       " 'source': ['Kochi', 'Mangalore', 'Beypore'],\n",
       " 'destination': ['Kochi', 'Mangalore', 'Beypore'],\n",
       " 'minHoursOnOneIsland': 3,\n",
       " 'maxHoursPerShip': 24,\n",
       " 'max_n_routes': inf,\n",
       " 'html_file': 'Lakport_schedule.html',\n",
       " 'filler': 0}"
      ]
     },
     "execution_count": 3,
     "metadata": {},
     "output_type": "execute_result"
    }
   ],
   "source": [
    "# Parameters representing contraints on the routes\n",
    "params"
   ]
  },
  {
   "cell_type": "code",
   "execution_count": 4,
   "metadata": {},
   "outputs": [
    {
     "data": {
      "text/plain": [
       "['Kochi', 'Mangalore', 'Beypore']"
      ]
     },
     "execution_count": 4,
     "metadata": {},
     "output_type": "execute_result"
    }
   ],
   "source": [
    "inlandPorts"
   ]
  },
  {
   "cell_type": "code",
   "execution_count": 5,
   "metadata": {},
   "outputs": [
    {
     "data": {
      "text/html": [
       "<div>\n",
       "<style scoped>\n",
       "    .dataframe tbody tr th:only-of-type {\n",
       "        vertical-align: middle;\n",
       "    }\n",
       "\n",
       "    .dataframe tbody tr th {\n",
       "        vertical-align: top;\n",
       "    }\n",
       "\n",
       "    .dataframe thead th {\n",
       "        text-align: right;\n",
       "    }\n",
       "</style>\n",
       "<table border=\"1\" class=\"dataframe\">\n",
       "  <thead>\n",
       "    <tr style=\"text-align: right;\">\n",
       "      <th></th>\n",
       "      <th>Date</th>\n",
       "      <th>Amindivi</th>\n",
       "      <th>Arabian Sea</th>\n",
       "      <th>Bharat Seema</th>\n",
       "      <th>Corals</th>\n",
       "      <th>Kavaratti</th>\n",
       "      <th>Lagoons</th>\n",
       "      <th>Lakshadweep Sea</th>\n",
       "      <th>Minicoy</th>\n",
       "    </tr>\n",
       "  </thead>\n",
       "  <tbody>\n",
       "    <tr>\n",
       "      <th>0</th>\n",
       "      <td>2019-03-05 20:00:00</td>\n",
       "      <td>0</td>\n",
       "      <td>0</td>\n",
       "      <td>0</td>\n",
       "      <td>0</td>\n",
       "      <td>Kochi</td>\n",
       "      <td>0</td>\n",
       "      <td>0</td>\n",
       "      <td>0</td>\n",
       "    </tr>\n",
       "    <tr>\n",
       "      <th>1</th>\n",
       "      <td>2019-03-06 09:00:00</td>\n",
       "      <td>0</td>\n",
       "      <td>0</td>\n",
       "      <td>0</td>\n",
       "      <td>0</td>\n",
       "      <td>Kalpeni</td>\n",
       "      <td>0</td>\n",
       "      <td>0</td>\n",
       "      <td>0</td>\n",
       "    </tr>\n",
       "    <tr>\n",
       "      <th>2</th>\n",
       "      <td>2019-03-06 13:00:00</td>\n",
       "      <td>0</td>\n",
       "      <td>0</td>\n",
       "      <td>0</td>\n",
       "      <td>0</td>\n",
       "      <td>Androth</td>\n",
       "      <td>0</td>\n",
       "      <td>0</td>\n",
       "      <td>0</td>\n",
       "    </tr>\n",
       "    <tr>\n",
       "      <th>3</th>\n",
       "      <td>2019-03-06 17:00:00</td>\n",
       "      <td>0</td>\n",
       "      <td>0</td>\n",
       "      <td>0</td>\n",
       "      <td>0</td>\n",
       "      <td>Kalpeni</td>\n",
       "      <td>0</td>\n",
       "      <td>0</td>\n",
       "      <td>0</td>\n",
       "    </tr>\n",
       "    <tr>\n",
       "      <th>4</th>\n",
       "      <td>2019-03-07 11:00:00</td>\n",
       "      <td>Mangalore</td>\n",
       "      <td>0</td>\n",
       "      <td>0</td>\n",
       "      <td>0</td>\n",
       "      <td>0</td>\n",
       "      <td>0</td>\n",
       "      <td>0</td>\n",
       "      <td>0</td>\n",
       "    </tr>\n",
       "  </tbody>\n",
       "</table>\n",
       "</div>"
      ],
      "text/plain": [
       "                 Date   Amindivi Arabian Sea  Bharat Seema Corals Kavaratti  \\\n",
       "0 2019-03-05 20:00:00          0           0             0      0     Kochi   \n",
       "1 2019-03-06 09:00:00          0           0             0      0   Kalpeni   \n",
       "2 2019-03-06 13:00:00          0           0             0      0   Androth   \n",
       "3 2019-03-06 17:00:00          0           0             0      0   Kalpeni   \n",
       "4 2019-03-07 11:00:00  Mangalore           0             0      0         0   \n",
       "\n",
       "  Lagoons Lakshadweep Sea Minicoy  \n",
       "0       0               0       0  \n",
       "1       0               0       0  \n",
       "2       0               0       0  \n",
       "3       0               0       0  \n",
       "4       0               0       0  "
      ]
     },
     "execution_count": 5,
     "metadata": {},
     "output_type": "execute_result"
    }
   ],
   "source": [
    "schedule = parse_schedule(**params)\n",
    "schedule.head()"
   ]
  },
  {
   "cell_type": "code",
   "execution_count": 6,
   "metadata": {},
   "outputs": [
    {
     "name": "stdout",
     "output_type": "stream",
     "text": [
      "Calculating All Paths.. Please Wait\n"
     ]
    }
   ],
   "source": [
    "# Use the cleaned schedule above to calculate the graph\n",
    "G = generateGraph(schedule, **params)"
   ]
  },
  {
   "cell_type": "code",
   "execution_count": 7,
   "metadata": {
    "scrolled": false
   },
   "outputs": [
    {
     "data": {
      "text/plain": [
       "('Total Nodes in the Graph: ', 92)"
      ]
     },
     "execution_count": 7,
     "metadata": {},
     "output_type": "execute_result"
    }
   ],
   "source": [
    "\"Total Nodes in the Graph: \",len(G)"
   ]
  },
  {
   "cell_type": "code",
   "execution_count": 8,
   "metadata": {},
   "outputs": [
    {
     "data": {
      "text/plain": [
       "47"
      ]
     },
     "execution_count": 8,
     "metadata": {},
     "output_type": "execute_result"
    }
   ],
   "source": [
    "# Find all routes subject to above params\n",
    "routes = find_n_routes(G, **params)\n",
    "len(routes)"
   ]
  },
  {
   "cell_type": "markdown",
   "metadata": {},
   "source": [
    "### Say I want to start and end at different ports"
   ]
  },
  {
   "cell_type": "code",
   "execution_count": 9,
   "metadata": {},
   "outputs": [],
   "source": [
    "# Take such routes that start location is different than end location\n",
    "routes_2 = [route for route in routes if route.nodes[0].location != route.nodes[-1].location]"
   ]
  },
  {
   "cell_type": "markdown",
   "metadata": {},
   "source": [
    "Explore the route on Map.  \n",
    "Click on the nodes to get more info on stay, and on routes to get more info on travel time"
   ]
  },
  {
   "cell_type": "code",
   "execution_count": 10,
   "metadata": {
    "scrolled": false
   },
   "outputs": [
    {
     "name": "stdout",
     "output_type": "stream",
     "text": [
      "Beypore 2019-03-12 17:00:00\n",
      "{'ship': 'Minicoy 0 days 17:00:00'} 0 days 17:00:00\n",
      "Androth 2019-03-13 10:00:00\n",
      "{'ship': 'None 1 days 03:00:00'} 1 days 03:00:00\n",
      "Androth 2019-03-14 13:00:00\n",
      "{'ship': 'Kavaratti 0 days 18:30:00'} 0 days 18:30:00\n",
      "Kochi 2019-03-15 07:30:00\n",
      "Tour Duration:  2 days 14:30:00\n",
      "\n",
      "3\n"
     ]
    },
    {
     "data": {
      "text/html": [
       "<div style=\"width:100%;\"><div style=\"position:relative;width:100%;height:0;padding-bottom:60%;\"><iframe src=\"data:text/html;charset=utf-8;base64,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\" style=\"position:absolute;width:100%;height:100%;left:0;top:0;border:none !important;\" allowfullscreen webkitallowfullscreen mozallowfullscreen></iframe></div></div>"
      ],
      "text/plain": [
       "<folium.folium.Map at 0x19638db0588>"
      ]
     },
     "execution_count": 10,
     "metadata": {},
     "output_type": "execute_result"
    }
   ],
   "source": [
    "# Drawing a random route on the Map\n",
    "routes_2[-1].draw(print_=True)"
   ]
  },
  {
   "cell_type": "code",
   "execution_count": null,
   "metadata": {},
   "outputs": [],
   "source": []
  }
 ],
 "metadata": {
  "kernelspec": {
   "display_name": "Python 3",
   "language": "python",
   "name": "python3"
  },
  "language_info": {
   "codemirror_mode": {
    "name": "ipython",
    "version": 3
   },
   "file_extension": ".py",
   "mimetype": "text/x-python",
   "name": "python",
   "nbconvert_exporter": "python",
   "pygments_lexer": "ipython3",
   "version": "3.6.5"
  }
 },
 "nbformat": 4,
 "nbformat_minor": 2
}
