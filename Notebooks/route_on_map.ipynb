{
 "cells": [
  {
   "cell_type": "markdown",
   "metadata": {},
   "source": [
    "# Project Lakshadweep Itinerary"
   ]
  },
  {
   "cell_type": "markdown",
   "metadata": {},
   "source": [
    "A simple demonstration of a Route on folium map.\n",
    "\n",
    "### Make sure you are viewing this on [nbviewer](https://nbviewer.jupyter.org/github/dumbPy/project_lakshadweep_itinerary/blob/master/Notebooks/route_on_map.ipynb)"
   ]
  },
  {
   "cell_type": "code",
   "execution_count": 1,
   "metadata": {},
   "outputs": [],
   "source": [
    "%load_ext autoreload\n",
    "%autoreload 2"
   ]
  },
  {
   "cell_type": "code",
   "execution_count": 2,
   "metadata": {},
   "outputs": [],
   "source": [
    "import os\n",
    "os.chdir('..')\n",
    "from lakport_itinerary import params, parse_schedule, generateGraph, inlandPorts\n",
    "from utils import RouteFinder"
   ]
  },
  {
   "cell_type": "code",
   "execution_count": 3,
   "metadata": {},
   "outputs": [
    {
     "data": {
      "text/plain": [
       "{'maxDaysOnOneIsland': 5,\n",
       " 'duration': 15,\n",
       " 'Departure': datetime.datetime(2018, 3, 11, 0, 0),\n",
       " 'source': ['Kochi', 'Mangalore', 'Beypore'],\n",
       " 'destination': ['Kochi', 'Mangalore', 'Beypore'],\n",
       " 'minHoursOnOneIsland': 3,\n",
       " 'maxHoursPerShip': 24,\n",
       " 'max_n_routes': inf,\n",
       " 'html_file': 'Lakport_schedule.html',\n",
       " 'filler': 0}"
      ]
     },
     "execution_count": 3,
     "metadata": {},
     "output_type": "execute_result"
    }
   ],
   "source": [
    "# Parameters representing contraints on the routes\n",
    "params"
   ]
  },
  {
   "cell_type": "code",
   "execution_count": 4,
   "metadata": {},
   "outputs": [
    {
     "data": {
      "text/plain": [
       "['Kochi', 'Mangalore', 'Beypore']"
      ]
     },
     "execution_count": 4,
     "metadata": {},
     "output_type": "execute_result"
    }
   ],
   "source": [
    "inlandPorts"
   ]
  },
  {
   "cell_type": "code",
   "execution_count": 5,
   "metadata": {},
   "outputs": [
    {
     "data": {
      "text/html": [
       "<div>\n",
       "<style scoped>\n",
       "    .dataframe tbody tr th:only-of-type {\n",
       "        vertical-align: middle;\n",
       "    }\n",
       "\n",
       "    .dataframe tbody tr th {\n",
       "        vertical-align: top;\n",
       "    }\n",
       "\n",
       "    .dataframe thead th {\n",
       "        text-align: right;\n",
       "    }\n",
       "</style>\n",
       "<table border=\"1\" class=\"dataframe\">\n",
       "  <thead>\n",
       "    <tr style=\"text-align: right;\">\n",
       "      <th></th>\n",
       "      <th>Date</th>\n",
       "      <th>Amindivi</th>\n",
       "      <th>Arabian Sea</th>\n",
       "      <th>Bharat Seema</th>\n",
       "      <th>Corals</th>\n",
       "      <th>Kavaratti</th>\n",
       "      <th>Lagoons</th>\n",
       "      <th>Lakshadweep Sea</th>\n",
       "      <th>Minicoy</th>\n",
       "    </tr>\n",
       "  </thead>\n",
       "  <tbody>\n",
       "    <tr>\n",
       "      <th>0</th>\n",
       "      <td>2019-03-15 13:00:00</td>\n",
       "      <td>0</td>\n",
       "      <td>Kochi</td>\n",
       "      <td>0</td>\n",
       "      <td>0</td>\n",
       "      <td>0</td>\n",
       "      <td>0</td>\n",
       "      <td>0</td>\n",
       "      <td>0</td>\n",
       "    </tr>\n",
       "    <tr>\n",
       "      <th>1</th>\n",
       "      <td>2019-03-16 09:00:00</td>\n",
       "      <td>0</td>\n",
       "      <td>Kiltan</td>\n",
       "      <td>0</td>\n",
       "      <td>0</td>\n",
       "      <td>0</td>\n",
       "      <td>0</td>\n",
       "      <td>0</td>\n",
       "      <td>0</td>\n",
       "    </tr>\n",
       "    <tr>\n",
       "      <th>2</th>\n",
       "      <td>2019-03-16 13:00:00</td>\n",
       "      <td>0</td>\n",
       "      <td>0</td>\n",
       "      <td>0</td>\n",
       "      <td>0</td>\n",
       "      <td>0</td>\n",
       "      <td>0</td>\n",
       "      <td>0</td>\n",
       "      <td>Beypore</td>\n",
       "    </tr>\n",
       "    <tr>\n",
       "      <th>3</th>\n",
       "      <td>2019-03-16 14:00:00</td>\n",
       "      <td>0</td>\n",
       "      <td>Chetlat</td>\n",
       "      <td>0</td>\n",
       "      <td>0</td>\n",
       "      <td>0</td>\n",
       "      <td>0</td>\n",
       "      <td>0</td>\n",
       "      <td>0</td>\n",
       "    </tr>\n",
       "    <tr>\n",
       "      <th>4</th>\n",
       "      <td>2019-03-16 18:00:00</td>\n",
       "      <td>0</td>\n",
       "      <td>Bitra</td>\n",
       "      <td>0</td>\n",
       "      <td>0</td>\n",
       "      <td>0</td>\n",
       "      <td>0</td>\n",
       "      <td>0</td>\n",
       "      <td>0</td>\n",
       "    </tr>\n",
       "  </tbody>\n",
       "</table>\n",
       "</div>"
      ],
      "text/plain": [
       "                 Date  Amindivi Arabian Sea  Bharat Seema Corals Kavaratti  \\\n",
       "0 2019-03-15 13:00:00         0       Kochi             0      0         0   \n",
       "1 2019-03-16 09:00:00         0      Kiltan             0      0         0   \n",
       "2 2019-03-16 13:00:00         0           0             0      0         0   \n",
       "3 2019-03-16 14:00:00         0     Chetlat             0      0         0   \n",
       "4 2019-03-16 18:00:00         0       Bitra             0      0         0   \n",
       "\n",
       "  Lagoons Lakshadweep Sea  Minicoy  \n",
       "0       0               0        0  \n",
       "1       0               0        0  \n",
       "2       0               0  Beypore  \n",
       "3       0               0        0  \n",
       "4       0               0        0  "
      ]
     },
     "execution_count": 5,
     "metadata": {},
     "output_type": "execute_result"
    }
   ],
   "source": [
    "schedule = parse_schedule(**params)\n",
    "schedule.head()"
   ]
  },
  {
   "cell_type": "code",
   "execution_count": 6,
   "metadata": {},
   "outputs": [
    {
     "name": "stdout",
     "output_type": "stream",
     "text": [
      "Total Nodes Added:  88\n",
      "Total Edges Added:  165\n"
     ]
    }
   ],
   "source": [
    "# Use the cleaned schedule above to calculate the graph\n",
    "G = generateGraph(schedule, **params)"
   ]
  },
  {
   "cell_type": "code",
   "execution_count": 7,
   "metadata": {
    "scrolled": false
   },
   "outputs": [
    {
     "data": {
      "text/plain": [
       "('Total Nodes in the Graph: ', 88)"
      ]
     },
     "execution_count": 7,
     "metadata": {},
     "output_type": "execute_result"
    }
   ],
   "source": [
    "\"Total Nodes in the Graph: \",len(G)"
   ]
  },
  {
   "cell_type": "code",
   "execution_count": 8,
   "metadata": {},
   "outputs": [
    {
     "name": "stdout",
     "output_type": "stream",
     "text": [
      "Total Routes Found: 22\n"
     ]
    },
    {
     "data": {
      "text/plain": [
       "22"
      ]
     },
     "execution_count": 8,
     "metadata": {},
     "output_type": "execute_result"
    }
   ],
   "source": [
    "# Find all routes subject to above params\n",
    "routes = RouteFinder.find_routes(G, **params)\n",
    "len(routes)"
   ]
  },
  {
   "cell_type": "markdown",
   "metadata": {},
   "source": [
    "### Say I want to start and end at different ports"
   ]
  },
  {
   "cell_type": "code",
   "execution_count": 9,
   "metadata": {},
   "outputs": [],
   "source": [
    "# Take such routes that start location is different than end location\n",
    "routes_2 = [route for route in routes if route.nodes[0].location != route.nodes[-1].location]"
   ]
  },
  {
   "cell_type": "markdown",
   "metadata": {},
   "source": [
    "Explore the route on Map.  \n",
    "Click on the nodes to get more info on stay, and on routes to get more info on travel time"
   ]
  },
  {
   "cell_type": "code",
   "execution_count": 10,
   "metadata": {
    "scrolled": false
   },
   "outputs": [
    {
     "name": "stdout",
     "output_type": "stream",
     "text": [
      "Beypore 2019-03-20 13:00:00\n",
      "{'ship': 'Minicoy 0 days 21:00:00'} 0 days 21:00:00\n",
      "Kiltan 2019-03-21 10:00:00\n",
      "{'ship': 'None 3 days 00:00:00'} 3 days 00:00:00\n",
      "Kiltan 2019-03-24 10:00:00\n",
      "{'ship': 'Corals 1 days 00:00:00'} 1 days 00:00:00\n",
      "Agatti 2019-03-25 10:00:00\n",
      "{'ship': 'None 4 days 00:00:00'} 4 days 00:00:00\n",
      "Agatti 2019-03-29 10:00:00\n",
      "{'ship': 'Arabian Sea 0 days 22:00:00'} 0 days 22:00:00\n",
      "Kochi 2019-03-30 08:00:00\n",
      "Tour Duration:  9 days 19:00:00\n",
      "\n"
     ]
    },
    {
     "data": {
      "text/html": [
       "<div style=\"width:100%;\"><div style=\"position:relative;width:100%;height:0;padding-bottom:60%;\"><iframe src=\"data:text/html;charset=utf-8;base64,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\" style=\"position:absolute;width:100%;height:100%;left:0;top:0;border:none !important;\" allowfullscreen webkitallowfullscreen mozallowfullscreen></iframe></div></div>"
      ],
      "text/plain": [
       "<folium.folium.Map at 0x7fe67dcf0358>"
      ]
     },
     "execution_count": 10,
     "metadata": {},
     "output_type": "execute_result"
    }
   ],
   "source": [
    "# Drawing a random route on the Map\n",
    "routes_2[-1].draw(print_=True)"
   ]
  },
  {
   "cell_type": "markdown",
   "metadata": {},
   "source": [
    "### Or, I want to travel atleast 10 days"
   ]
  },
  {
   "cell_type": "code",
   "execution_count": 11,
   "metadata": {},
   "outputs": [
    {
     "data": {
      "text/plain": [
       "1"
      ]
     },
     "execution_count": 11,
     "metadata": {},
     "output_type": "execute_result"
    }
   ],
   "source": [
    "from datetime import timedelta\n",
    "routes3 = [route for route in routes if route.nodes[-1].timestamp-route.nodes[0].timestamp>timedelta(days=10)]\n",
    "len(routes3)"
   ]
  },
  {
   "cell_type": "code",
   "execution_count": 12,
   "metadata": {},
   "outputs": [
    {
     "name": "stdout",
     "output_type": "stream",
     "text": [
      "Kochi 2019-03-18 13:00:00\n",
      "{'ship': 'Corals 0 days 20:00:00'} 0 days 20:00:00\n",
      "Kavaratti 2019-03-19 09:00:00\n",
      "{'ship': 'None 1 days 00:00:00'} 1 days 00:00:00\n",
      "Kavaratti 2019-03-20 09:00:00\n",
      "{'ship': 'Kavaratti 0 days 05:00:00'} 0 days 05:00:00\n",
      "Agatti 2019-03-20 14:00:00\n",
      "{'ship': 'None 4 days 20:00:00'} 4 days 20:00:00\n",
      "Agatti 2019-03-25 10:00:00\n",
      "{'ship': 'Corals 0 days 08:00:00'} 0 days 08:00:00\n",
      "Kavaratti 2019-03-25 18:00:00\n",
      "{'ship': 'None 4 days 00:00:00'} 4 days 00:00:00\n",
      "Kavaratti 2019-03-29 18:00:00\n",
      "{'ship': 'Arabian Sea 0 days 14:00:00'} 0 days 14:00:00\n",
      "Kochi 2019-03-30 08:00:00\n",
      "Tour Duration:  11 days 19:00:00\n",
      "\n"
     ]
    },
    {
     "data": {
      "text/html": [
       "<div style=\"width:100%;\"><div style=\"position:relative;width:100%;height:0;padding-bottom:60%;\"><iframe src=\"data:text/html;charset=utf-8;base64,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\" style=\"position:absolute;width:100%;height:100%;left:0;top:0;border:none !important;\" allowfullscreen webkitallowfullscreen mozallowfullscreen></iframe></div></div>"
      ],
      "text/plain": [
       "<folium.folium.Map at 0x7fe67dc79438>"
      ]
     },
     "execution_count": 12,
     "metadata": {},
     "output_type": "execute_result"
    }
   ],
   "source": [
    "routes3[0].draw(print_=True)"
   ]
  },
  {
   "cell_type": "code",
   "execution_count": null,
   "metadata": {},
   "outputs": [],
   "source": []
  }
 ],
 "metadata": {
  "kernelspec": {
   "display_name": "Python 3",
   "language": "python",
   "name": "python3"
  },
  "language_info": {
   "codemirror_mode": {
    "name": "ipython",
    "version": 3
   },
   "file_extension": ".py",
   "mimetype": "text/x-python",
   "name": "python",
   "nbconvert_exporter": "python",
   "pygments_lexer": "ipython3",
   "version": "3.6.5"
  }
 },
 "nbformat": 4,
 "nbformat_minor": 2
}
